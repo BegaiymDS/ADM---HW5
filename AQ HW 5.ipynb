{
 "cells": [
  {
   "cell_type": "markdown",
   "id": "d7ec2a49",
   "metadata": {},
   "source": [
    "## 5. Algorithmic Questions (AQ)"
   ]
  },
  {
   "cell_type": "markdown",
   "id": "8e5a7c18",
   "metadata": {},
   "source": [
    "### Part A\n",
    "#### 1. Implement an algorithm to solve the problem"
   ]
  },
  {
   "cell_type": "code",
   "execution_count": 62,
   "id": "b4523bf3",
   "metadata": {},
   "outputs": [
    {
     "name": "stdout",
     "output_type": "stream",
     "text": [
      "The output is 370\n",
      "The output is 399\n"
     ]
    }
   ],
   "source": [
    "def inputs(txt):\n",
    "    # reading input from the file txt\n",
    "    with open(txt, 'r') as file:\n",
    "        lines = file.readlines()\n",
    "        # extracting N, M, and S from the first line\n",
    "        N, M, S = map(int, lines[0].split())\n",
    "        # optimal set of skills\n",
    "        skills = lines[1].split()\n",
    "        athletes = {}\n",
    "        \n",
    "        # parse athlete information\n",
    "        for i in range(2, len(lines), S + 1):\n",
    "            # getting the unique ID of the athlete\n",
    "            athlete_id = int(lines[i].strip())\n",
    "            athlete_skills = {}\n",
    "            # extracting the skills and the scores for each athlete\n",
    "            for j in range(i + 1, i + S + 1):\n",
    "                skill, score = lines[j].split()\n",
    "                athlete_skills[skill] = int(score)\n",
    "            athletes[athlete_id] = athlete_skills\n",
    "\n",
    "    return N, M, S, skills, athletes\n",
    "\n",
    "def score(N, M, S, skills, athletes):\n",
    "    max_scores = [0] * M\n",
    "    selected_athletes = []\n",
    "\n",
    "    # assigning athletes to roles based on optimal skills\n",
    "    for skill_index, skill in enumerate(skills):\n",
    "        max_score = 0\n",
    "        selected_athlete = None\n",
    "\n",
    "        for athlete_id, athlete_skills in athletes.items():\n",
    "            if skill in athlete_skills and athlete_id not in selected_athletes:\n",
    "                if athlete_skills[skill] > max_score:\n",
    "                    max_score = athlete_skills[skill]\n",
    "                    selected_athlete = athlete_id\n",
    "\n",
    "        if selected_athlete:\n",
    "            # we add the selected athlete to the team\n",
    "            selected_athletes.append(selected_athlete)\n",
    "            max_scores[skill_index] = max_score\n",
    "            \n",
    "    # returns the total maximum global score\n",
    "    return sum(max_scores)\n",
    "\n",
    "def main(txt):\n",
    "    N, M, S, skills, athletes = inputs(txt)\n",
    "    result = score(N, M, S, skills, athletes)\n",
    "    print(f'The output is {result}')\n",
    "\n",
    "# doing the test for the first input\n",
    "if __name__ == \"__main__\":\n",
    "    main(\"test1.txt\")\n",
    "\n",
    "# doing the test for the second input    \n",
    "if __name__ == \"__main__\":\n",
    "    main(\"test2.txt\")"
   ]
  },
  {
   "cell_type": "markdown",
   "id": "917dbd17",
   "metadata": {},
   "source": [
    "#### 2. What is the time complexity (the Big O notation) of your solution? Please provide a detailed explanation of how you calculated the time complexity."
   ]
  },
  {
   "cell_type": "markdown",
   "id": "f785d9fe",
   "metadata": {},
   "source": [
    "In the first part, function `inputs`, the algorithm reads the input so the N athletes each with S skills. The function loops over each candidate, which has N elements so it runs **N** times. Inside the loop, the function goes over each skill, which has S elements, so the nested loop runs **S** times. So the time complexity of the function is **O(N * S)**.\n",
    "\n",
    "In the second part, function `score`, the algorithm selects the athletes to be part of the team and finds the maximum score. The first loop goes over the skill of the optimal set which has M elements, so the loop runs **M** times. Inside the loop the function loops over each candidate who is not already selected, which has at most N elements, so it runs **N** times. Inside this nested one the function goes over each skill score of the current candidate, which has S elements so runs **S** times. Then when we found the proficient athlete the function adds the athlete to the list of the team and updates the best score. (**O(1)**)\n",
    "At last the function returns the some of the best scores which takes O(M) time because it iterates over M elements.\n",
    "So the time complexity of this function is  O(M * (N * S + 1) + M) = **O(N * M * S)**. \n",
    "\n",
    "So the total time complexity is given by the sum of the previous ones: **O(N * M * S)**"
   ]
  },
  {
   "cell_type": "markdown",
   "id": "c6c7c2d4",
   "metadata": {},
   "source": [
    "#### 3. Ask ChatGPT or any other LLM chatbot tool to check your code's time complexity (the Big O notation). Compare your answer to theirs. If the two differ, which one is right? (why?)"
   ]
  },
  {
   "cell_type": "markdown",
   "id": "c045032c",
   "metadata": {},
   "source": [
    "So we asked ChatGPT what is the total time complexity of our algorithm: \n",
    "```\n",
    "Let's break down the time complexity of the provided code:\n",
    "\n",
    "1.inputs() function:\n",
    "\n",
    "Reading N athletes, each with S skills, involves iterating through these athletes and their skills.\n",
    "Complexity: O(N * S)\n",
    "\n",
    "2.score() function:\n",
    "\n",
    "Assigning athletes to roles based on M skills:\n",
    "For each of the M required skills:\n",
    "Iterating through N athletes to find the one with the highest proficiency in that skill.\n",
    "Total iterations for selecting athletes: O(M * N)\n",
    "Complexity for role assignment: O(M * N)\n",
    "\n",
    "3.Overall:\n",
    "\n",
    "The dominant factor is the role assignment part (O(M * N)) within the score() function.\n",
    "Therefore, the total time complexity of the provided code, excluding the main() function, is primarily governed by the role assignment part in the score() function and can be expressed as O(M * N). This represents the most significant operation in terms of time complexity for this code snippet.\n",
    "```\n",
    "\n",
    "I do not think that in general the time complexity is O(N * M). The reason is that the `score` function does not iterate over N candidates for each skill, but only over the candidates who are not already selected. Therefore, the number of iterations decreases as more candidates are selected. But in the worst case, the function may still need to check all N candidates for each skill, so the upper bound of the time complexity is O(N * M). However, this is not the exact time complexity, as it does not consider for the average or best case scenarios. For example, if the `score` function selects the best candidate for each skill in the first iteration, then the time complexity would be O(N), as it would not need to check any other candidates. So the time complexity of O(N * M * S) is a reasonable approximation, as it gives the upper bound of the worst case scenario."
   ]
  },
  {
   "cell_type": "markdown",
   "id": "e4b93a41",
   "metadata": {},
   "source": [
    "#### 4. If your algorithm has exponential time complexity, can you provide a polynomial-time version?"
   ]
  },
  {
   "cell_type": "markdown",
   "id": "cd8e4768",
   "metadata": {},
   "source": [
    "The time complexity of this algorithm is O(N * M * S), where N is the number of candidates, M is the number of athletes to select, and S is the number of skills per candidate. This has a polynpmial time complexity."
   ]
  },
  {
   "cell_type": "markdown",
   "id": "13bf46a1",
   "metadata": {},
   "source": [
    "#### 5. If S=1, how does the time complexity of an optimal algorithm to solve this problem change?"
   ]
  },
  {
   "cell_type": "markdown",
   "id": "a541f125",
   "metadata": {},
   "source": [
    "If S=1 the problem becomes easier because every athlete has one skill and score. So an optimal algorithm can do first the *sort* of the athletes by their skill name and score. It divides the input into smaller parts and recursively sort them, which takes O(log N) time for each part. Then, it merges or combines the sorted parts, which takes O(N) time for each level. So for the sorting it takes **O(N * logN)** time.\\\n",
    "After the algorithm choose the proeficient athlete for all the skill of the optimal set in **O(M)** time (scans the list and it's constant and do it for M times).\\\n",
    "At last there is the time to calculate the score that is the sum of the best scores which is **O(M)** (summing M times).\n",
    "\n",
    "So the total time complexity in this case woul be the sum of these times: O(N * logN + M + M) = O(N * logN + 2M) = (if N is larger than M and because the log increase faster than the linear) =  **O(N * logN)**."
   ]
  },
  {
   "cell_type": "markdown",
   "id": "aad2f149",
   "metadata": {},
   "source": [
    "### PART B"
   ]
  },
  {
   "cell_type": "markdown",
   "id": "16097590",
   "metadata": {},
   "source": [
    "#### 1. Prove or disprove that the problem is NP-complete."
   ]
  },
  {
   "cell_type": "markdown",
   "id": "01ef7786",
   "metadata": {},
   "source": [
    "To prove or disprove that the problem is NP-complete, it can be beneficial to attempt a reduction to a known NP-hard problem, such as the set covering problem, which is well-established as NP-hard.\\\n",
    "Let's try doing an example: suppose to have this set of skills T = [1,2,3] that we want to cover and 4 individuals X = [A, B, C, D] with the following skills and following efforts with others (we also suppose that every node are connected):\n",
    "\n",
    "- A has skills (1,2) and associated efforts [(B, 1), (C, 3), (D, 2)]\n",
    "- B has skills (2) and associated efforts [(A, 1), (C, 2), (D, 3)]\n",
    "- C has skills (3) and associated efforts [(A, 3), (B, 2), (D, 1)]\n",
    "- D has skills (1, 3) and associated efforts [(A, 2), (B, 3), (C, 1)]\n",
    "\n",
    "Now we can map the individuals' skills to subsets of a universe, with the goal of finding a minimum subset of individuals (subsets) whose union covers all the skills mentioned. The mapping involves associating:\n",
    "\n",
    "1. Skills of individuals to subsets of the universe.\n",
    "2. Efforts between individuals to relationships or costs between these subsets in the set covering problem.\n",
    "\n",
    "This mapping allows us to frame the problem in the context of the set covering problem, where finding a solution involves identifying the minimum subsets that covers all required skills while considering the associated efforts as the cost of combining these subsets. \n",
    "\n",
    "Let's say that the solution is X'= [A,C], the skills are covered because together they have all the skills and the weight of the edge between them is 3 which it can be calculate in a polnomial time. So selecting a subset of individuals in the problem that covers all required skills T while minimizing effort corresponds to finding a solution to the set covering problem. This transformation can be done in polynomial time. If there exists a solution to the set covering instance, it translates to a solution to the problem. Specifically, if a subset of subsets in the set covering problem covers the universe, then the corresponding subset of individuals in the problem should cover all required skills T and have the minimum cost of working together. This equivalence can be checked in polynomial time. Proving successfully all of these, we can say that the problem is NP-hard and because we know that is also NP (because we can verify the solution in polynomial time), the problem is NP-complete."
   ]
  },
  {
   "cell_type": "markdown",
   "id": "36019450",
   "metadata": {},
   "source": [
    "#### 2. Write a heuristic in order to approximate the best solution for this problem."
   ]
  },
  {
   "cell_type": "markdown",
   "id": "83dd257d",
   "metadata": {},
   "source": [
    "We can follow these steps:\n",
    "\n",
    "1. **Initialize an empty team**: Start with no individuals in the team. So X' = [] where X' is a subset of X.\n",
    "\n",
    "2. **While not all skills in T are covered by the team X'**: Continue the process until all the required skills are covered by the team.\n",
    "\n",
    "3. **Find the best individual**: Among the remaining individuals, find the one who can add the most uncovered skills to the team.\n",
    "\n",
    "4. **Add the best individual to the team**: Add this individual x to the team.\n",
    "\n",
    "5. **Remove the best individual from the pool**: Remove this individual from the pool of all individuals, so they won't be considered in the next iterations.\n",
    "\n",
    "6. **Construct the graph G**: Once a team that covers all skills is formed, construct a graph where the nodes represent the individuals in the team and the edges represent the effort required for pairs of individuals to work well together.\n",
    "\n",
    "7. **Find the minimum spanning tree**: Find the minimum spanning tree of the graph. This represents the configuration of the team where the total effort of working together is minimized.\n",
    "\n",
    "8. **Form the final team**: The individuals corresponding to the nodes in the minimum spanning tree form the final team.\n",
    "\n",
    "9. **Return the final team**: The final team is then returned as the result.\n"
   ]
  },
  {
   "cell_type": "markdown",
   "id": "d4bf2738",
   "metadata": {},
   "source": [
    "#### 3.What is the time complexity of your solution ?"
   ]
  },
  {
   "cell_type": "markdown",
   "id": "61a354d8",
   "metadata": {},
   "source": [
    "The time complexity of the heuristic solution depends on:\n",
    "\n",
    "- **Finding the best individual**: This step is performed in each iteration until all skills are covered. If we assume that checking the skills of an individual and updating the team can be done in constant time, this step would take O(n) time in each iteration, where n is the number of individuals. Since we’re performing this step until all skills are covered, in the worst case, this could take O(n^2) time.\n",
    "\n",
    "- **Constructing the graph**: This step involves creating a graph with an edge between every pair of individuals in the team. If the team has m individuals, there would be O(m^2) edges, and hence constructing the graph would take O(m^2) time.\n",
    "\n",
    "- **Finding the minimum spanning tree**: This can be done using Prim’s or Kruskal’s algorithm in O(m^2) or O(m * logm) time respectively, where m is the number of nodes in the graph.\n",
    "\n",
    "So, the overall time complexity of the heuristic would be O(n^2) for finding the best individual in each iteration, plus O(m^2) or O(m * logm) for constructing the graph and finding the MST. Here, n is the total number of individuals and m is the number of individuals in the final team."
   ]
  }
 ],
 "metadata": {
  "kernelspec": {
   "display_name": "Python 3 (ipykernel)",
   "language": "python",
   "name": "python3"
  },
  "language_info": {
   "codemirror_mode": {
    "name": "ipython",
    "version": 3
   },
   "file_extension": ".py",
   "mimetype": "text/x-python",
   "name": "python",
   "nbconvert_exporter": "python",
   "pygments_lexer": "ipython3",
   "version": "3.11.4"
  }
 },
 "nbformat": 4,
 "nbformat_minor": 5
}
